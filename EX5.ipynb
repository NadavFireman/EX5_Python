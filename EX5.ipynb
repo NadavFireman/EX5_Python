{
 "cells": [
  {
   "cell_type": "code",
   "execution_count": 1,
   "id": "5dbd9550",
   "metadata": {},
   "outputs": [],
   "source": [
    "import numpy as np\n",
    "import pandas as pd\n",
    "import matplotlib.pyplot as plt\n",
    "import seaborn as sns\n",
    "import sklearn.metrics as metrics\n",
    "from sklearn.preprocessing import MinMaxScaler\n",
    "from sklearn.cluster import KMeans\n",
    "from sklearn.datasets import make_blobs\n",
    "from sklearn.tree import DecisionTreeClassifier\n",
    "from sklearn.model_selection import train_test_split \n",
    "from sklearn import metrics\n",
    "from sklearn import preprocessing\n",
    "from sklearn.feature_selection import RFE\n",
    "from sklearn.ensemble import RandomForestClassifier\n",
    "from sklearn.preprocessing import LabelEncoder\n",
    "from sklearn import linear_model\n",
    "plt.style.use(\"ggplot\")"
   ]
  },
  {
   "cell_type": "markdown",
   "id": "21e23315",
   "metadata": {},
   "source": [
    "# Part A"
   ]
  },
  {
   "cell_type": "markdown",
   "id": "d58c2d7b",
   "metadata": {},
   "source": [
    "### Exercise 1"
   ]
  },
  {
   "cell_type": "code",
   "execution_count": 1,
   "id": "f2d04217",
   "metadata": {},
   "outputs": [
    {
     "name": "stdout",
     "output_type": "stream",
     "text": [
      "Error\n"
     ]
    }
   ],
   "source": [
    "try:\n",
    "  data = pd.read_csv(\"diabetes_sympthoms.csv\")\n",
    "  print(\"Loaded\")\n",
    "except:\n",
    "  print(\"Error\")"
   ]
  },
  {
   "cell_type": "code",
   "execution_count": 3,
   "id": "c4312206",
   "metadata": {},
   "outputs": [
    {
     "data": {
      "text/html": [
       "<div>\n",
       "<style scoped>\n",
       "    .dataframe tbody tr th:only-of-type {\n",
       "        vertical-align: middle;\n",
       "    }\n",
       "\n",
       "    .dataframe tbody tr th {\n",
       "        vertical-align: top;\n",
       "    }\n",
       "\n",
       "    .dataframe thead th {\n",
       "        text-align: right;\n",
       "    }\n",
       "</style>\n",
       "<table border=\"1\" class=\"dataframe\">\n",
       "  <thead>\n",
       "    <tr style=\"text-align: right;\">\n",
       "      <th></th>\n",
       "      <th>Pregnancies</th>\n",
       "      <th>Glucose</th>\n",
       "      <th>BloodPressure</th>\n",
       "      <th>SkinThickness</th>\n",
       "      <th>Insulin</th>\n",
       "      <th>BMI</th>\n",
       "      <th>DiabetesLevel</th>\n",
       "      <th>Outcome</th>\n",
       "      <th>AgeCategory</th>\n",
       "    </tr>\n",
       "  </thead>\n",
       "  <tbody>\n",
       "    <tr>\n",
       "      <th>0</th>\n",
       "      <td>6</td>\n",
       "      <td>148</td>\n",
       "      <td>72</td>\n",
       "      <td>35</td>\n",
       "      <td>0</td>\n",
       "      <td>33.6</td>\n",
       "      <td>0.627</td>\n",
       "      <td>1</td>\n",
       "      <td>Adult</td>\n",
       "    </tr>\n",
       "    <tr>\n",
       "      <th>1</th>\n",
       "      <td>1</td>\n",
       "      <td>85</td>\n",
       "      <td>66</td>\n",
       "      <td>29</td>\n",
       "      <td>0</td>\n",
       "      <td>26.6</td>\n",
       "      <td>0.351</td>\n",
       "      <td>0</td>\n",
       "      <td>Young</td>\n",
       "    </tr>\n",
       "    <tr>\n",
       "      <th>2</th>\n",
       "      <td>8</td>\n",
       "      <td>183</td>\n",
       "      <td>64</td>\n",
       "      <td>0</td>\n",
       "      <td>0</td>\n",
       "      <td>23.3</td>\n",
       "      <td>0.672</td>\n",
       "      <td>1</td>\n",
       "      <td>Adult</td>\n",
       "    </tr>\n",
       "    <tr>\n",
       "      <th>3</th>\n",
       "      <td>1</td>\n",
       "      <td>89</td>\n",
       "      <td>66</td>\n",
       "      <td>23</td>\n",
       "      <td>94</td>\n",
       "      <td>28.1</td>\n",
       "      <td>0.167</td>\n",
       "      <td>0</td>\n",
       "      <td>Young</td>\n",
       "    </tr>\n",
       "    <tr>\n",
       "      <th>4</th>\n",
       "      <td>0</td>\n",
       "      <td>137</td>\n",
       "      <td>40</td>\n",
       "      <td>35</td>\n",
       "      <td>168</td>\n",
       "      <td>43.1</td>\n",
       "      <td>2.288</td>\n",
       "      <td>1</td>\n",
       "      <td>Adult</td>\n",
       "    </tr>\n",
       "    <tr>\n",
       "      <th>...</th>\n",
       "      <td>...</td>\n",
       "      <td>...</td>\n",
       "      <td>...</td>\n",
       "      <td>...</td>\n",
       "      <td>...</td>\n",
       "      <td>...</td>\n",
       "      <td>...</td>\n",
       "      <td>...</td>\n",
       "      <td>...</td>\n",
       "    </tr>\n",
       "    <tr>\n",
       "      <th>763</th>\n",
       "      <td>10</td>\n",
       "      <td>101</td>\n",
       "      <td>76</td>\n",
       "      <td>48</td>\n",
       "      <td>180</td>\n",
       "      <td>32.9</td>\n",
       "      <td>0.171</td>\n",
       "      <td>0</td>\n",
       "      <td>Mature</td>\n",
       "    </tr>\n",
       "    <tr>\n",
       "      <th>764</th>\n",
       "      <td>2</td>\n",
       "      <td>122</td>\n",
       "      <td>70</td>\n",
       "      <td>27</td>\n",
       "      <td>0</td>\n",
       "      <td>36.8</td>\n",
       "      <td>0.340</td>\n",
       "      <td>0</td>\n",
       "      <td>Young</td>\n",
       "    </tr>\n",
       "    <tr>\n",
       "      <th>765</th>\n",
       "      <td>5</td>\n",
       "      <td>121</td>\n",
       "      <td>72</td>\n",
       "      <td>23</td>\n",
       "      <td>112</td>\n",
       "      <td>26.2</td>\n",
       "      <td>0.245</td>\n",
       "      <td>0</td>\n",
       "      <td>Young</td>\n",
       "    </tr>\n",
       "    <tr>\n",
       "      <th>766</th>\n",
       "      <td>1</td>\n",
       "      <td>126</td>\n",
       "      <td>60</td>\n",
       "      <td>0</td>\n",
       "      <td>0</td>\n",
       "      <td>30.1</td>\n",
       "      <td>0.349</td>\n",
       "      <td>1</td>\n",
       "      <td>Adult</td>\n",
       "    </tr>\n",
       "    <tr>\n",
       "      <th>767</th>\n",
       "      <td>1</td>\n",
       "      <td>93</td>\n",
       "      <td>70</td>\n",
       "      <td>31</td>\n",
       "      <td>0</td>\n",
       "      <td>30.4</td>\n",
       "      <td>0.315</td>\n",
       "      <td>0</td>\n",
       "      <td>Young</td>\n",
       "    </tr>\n",
       "  </tbody>\n",
       "</table>\n",
       "<p>768 rows × 9 columns</p>\n",
       "</div>"
      ],
      "text/plain": [
       "     Pregnancies  Glucose  BloodPressure  SkinThickness  Insulin   BMI  \\\n",
       "0              6      148             72             35        0  33.6   \n",
       "1              1       85             66             29        0  26.6   \n",
       "2              8      183             64              0        0  23.3   \n",
       "3              1       89             66             23       94  28.1   \n",
       "4              0      137             40             35      168  43.1   \n",
       "..           ...      ...            ...            ...      ...   ...   \n",
       "763           10      101             76             48      180  32.9   \n",
       "764            2      122             70             27        0  36.8   \n",
       "765            5      121             72             23      112  26.2   \n",
       "766            1      126             60              0        0  30.1   \n",
       "767            1       93             70             31        0  30.4   \n",
       "\n",
       "     DiabetesLevel  Outcome AgeCategory  \n",
       "0            0.627        1       Adult  \n",
       "1            0.351        0       Young  \n",
       "2            0.672        1       Adult  \n",
       "3            0.167        0       Young  \n",
       "4            2.288        1       Adult  \n",
       "..             ...      ...         ...  \n",
       "763          0.171        0      Mature  \n",
       "764          0.340        0       Young  \n",
       "765          0.245        0       Young  \n",
       "766          0.349        1       Adult  \n",
       "767          0.315        0       Young  \n",
       "\n",
       "[768 rows x 9 columns]"
      ]
     },
     "execution_count": 3,
     "metadata": {},
     "output_type": "execute_result"
    }
   ],
   "source": [
    "data"
   ]
  },
  {
   "cell_type": "markdown",
   "id": "6cd27b94",
   "metadata": {},
   "source": [
    "### Exercise 2"
   ]
  },
  {
   "cell_type": "code",
   "execution_count": 4,
   "id": "ee6a22a2",
   "metadata": {},
   "outputs": [
    {
     "data": {
      "text/html": [
       "<div>\n",
       "<style scoped>\n",
       "    .dataframe tbody tr th:only-of-type {\n",
       "        vertical-align: middle;\n",
       "    }\n",
       "\n",
       "    .dataframe tbody tr th {\n",
       "        vertical-align: top;\n",
       "    }\n",
       "\n",
       "    .dataframe thead th {\n",
       "        text-align: right;\n",
       "    }\n",
       "</style>\n",
       "<table border=\"1\" class=\"dataframe\">\n",
       "  <thead>\n",
       "    <tr style=\"text-align: right;\">\n",
       "      <th></th>\n",
       "      <th>Pregnancies</th>\n",
       "      <th>Glucose</th>\n",
       "      <th>BloodPressure</th>\n",
       "      <th>SkinThickness</th>\n",
       "      <th>Insulin</th>\n",
       "      <th>BMI</th>\n",
       "      <th>DiabetesLevel</th>\n",
       "      <th>Outcome</th>\n",
       "    </tr>\n",
       "  </thead>\n",
       "  <tbody>\n",
       "    <tr>\n",
       "      <th>count</th>\n",
       "      <td>768.000000</td>\n",
       "      <td>768.000000</td>\n",
       "      <td>768.000000</td>\n",
       "      <td>768.000000</td>\n",
       "      <td>768.000000</td>\n",
       "      <td>768.000000</td>\n",
       "      <td>768.000000</td>\n",
       "      <td>768.000000</td>\n",
       "    </tr>\n",
       "    <tr>\n",
       "      <th>mean</th>\n",
       "      <td>3.845052</td>\n",
       "      <td>120.894531</td>\n",
       "      <td>69.105469</td>\n",
       "      <td>20.536458</td>\n",
       "      <td>79.799479</td>\n",
       "      <td>31.992578</td>\n",
       "      <td>0.471876</td>\n",
       "      <td>0.348958</td>\n",
       "    </tr>\n",
       "    <tr>\n",
       "      <th>std</th>\n",
       "      <td>3.369578</td>\n",
       "      <td>31.972618</td>\n",
       "      <td>19.355807</td>\n",
       "      <td>15.952218</td>\n",
       "      <td>115.244002</td>\n",
       "      <td>7.884160</td>\n",
       "      <td>0.331329</td>\n",
       "      <td>0.476951</td>\n",
       "    </tr>\n",
       "    <tr>\n",
       "      <th>min</th>\n",
       "      <td>0.000000</td>\n",
       "      <td>0.000000</td>\n",
       "      <td>0.000000</td>\n",
       "      <td>0.000000</td>\n",
       "      <td>0.000000</td>\n",
       "      <td>0.000000</td>\n",
       "      <td>0.078000</td>\n",
       "      <td>0.000000</td>\n",
       "    </tr>\n",
       "    <tr>\n",
       "      <th>25%</th>\n",
       "      <td>1.000000</td>\n",
       "      <td>99.000000</td>\n",
       "      <td>62.000000</td>\n",
       "      <td>0.000000</td>\n",
       "      <td>0.000000</td>\n",
       "      <td>27.300000</td>\n",
       "      <td>0.243750</td>\n",
       "      <td>0.000000</td>\n",
       "    </tr>\n",
       "    <tr>\n",
       "      <th>50%</th>\n",
       "      <td>3.000000</td>\n",
       "      <td>117.000000</td>\n",
       "      <td>72.000000</td>\n",
       "      <td>23.000000</td>\n",
       "      <td>30.500000</td>\n",
       "      <td>32.000000</td>\n",
       "      <td>0.372500</td>\n",
       "      <td>0.000000</td>\n",
       "    </tr>\n",
       "    <tr>\n",
       "      <th>75%</th>\n",
       "      <td>6.000000</td>\n",
       "      <td>140.250000</td>\n",
       "      <td>80.000000</td>\n",
       "      <td>32.000000</td>\n",
       "      <td>127.250000</td>\n",
       "      <td>36.600000</td>\n",
       "      <td>0.626250</td>\n",
       "      <td>1.000000</td>\n",
       "    </tr>\n",
       "    <tr>\n",
       "      <th>max</th>\n",
       "      <td>17.000000</td>\n",
       "      <td>199.000000</td>\n",
       "      <td>122.000000</td>\n",
       "      <td>99.000000</td>\n",
       "      <td>846.000000</td>\n",
       "      <td>67.100000</td>\n",
       "      <td>2.420000</td>\n",
       "      <td>1.000000</td>\n",
       "    </tr>\n",
       "  </tbody>\n",
       "</table>\n",
       "</div>"
      ],
      "text/plain": [
       "       Pregnancies     Glucose  BloodPressure  SkinThickness     Insulin  \\\n",
       "count   768.000000  768.000000     768.000000     768.000000  768.000000   \n",
       "mean      3.845052  120.894531      69.105469      20.536458   79.799479   \n",
       "std       3.369578   31.972618      19.355807      15.952218  115.244002   \n",
       "min       0.000000    0.000000       0.000000       0.000000    0.000000   \n",
       "25%       1.000000   99.000000      62.000000       0.000000    0.000000   \n",
       "50%       3.000000  117.000000      72.000000      23.000000   30.500000   \n",
       "75%       6.000000  140.250000      80.000000      32.000000  127.250000   \n",
       "max      17.000000  199.000000     122.000000      99.000000  846.000000   \n",
       "\n",
       "              BMI  DiabetesLevel     Outcome  \n",
       "count  768.000000     768.000000  768.000000  \n",
       "mean    31.992578       0.471876    0.348958  \n",
       "std      7.884160       0.331329    0.476951  \n",
       "min      0.000000       0.078000    0.000000  \n",
       "25%     27.300000       0.243750    0.000000  \n",
       "50%     32.000000       0.372500    0.000000  \n",
       "75%     36.600000       0.626250    1.000000  \n",
       "max     67.100000       2.420000    1.000000  "
      ]
     },
     "execution_count": 4,
     "metadata": {},
     "output_type": "execute_result"
    }
   ],
   "source": [
    "data.describe()"
   ]
  },
  {
   "cell_type": "markdown",
   "id": "acb1aeda",
   "metadata": {},
   "source": [
    "לאחר שימוש בפקודת דסקרייב, ניתן להסיק מהנתונים כמה עובדות על הנבדקים על פי קריטריונים קבועים. לדוגמה עבור עמודת גלוקוז יש 768 שורות הממוצע הוא 120.894531 סטיית התקן 31.972618\tהמספר המינימלי 0.000000\tהמספר של ה25% הוא 99.000000\tהמספר החציוני הוא 117.00000 המספר ה 75% הוא 140.250000 והמקסימלי 17.000000"
   ]
  },
  {
   "cell_type": "markdown",
   "id": "c2466bee",
   "metadata": {},
   "source": [
    "### Exercise 3"
   ]
  },
  {
   "cell_type": "code",
   "execution_count": 5,
   "id": "6ddebfc7",
   "metadata": {
    "scrolled": false
   },
   "outputs": [
    {
     "data": {
      "text/html": [
       "<div>\n",
       "<style scoped>\n",
       "    .dataframe tbody tr th:only-of-type {\n",
       "        vertical-align: middle;\n",
       "    }\n",
       "\n",
       "    .dataframe tbody tr th {\n",
       "        vertical-align: top;\n",
       "    }\n",
       "\n",
       "    .dataframe thead th {\n",
       "        text-align: right;\n",
       "    }\n",
       "</style>\n",
       "<table border=\"1\" class=\"dataframe\">\n",
       "  <thead>\n",
       "    <tr style=\"text-align: right;\">\n",
       "      <th></th>\n",
       "      <th>Pregnancies</th>\n",
       "      <th>Glucose</th>\n",
       "      <th>BloodPressure</th>\n",
       "      <th>SkinThickness</th>\n",
       "      <th>Insulin</th>\n",
       "      <th>BMI</th>\n",
       "      <th>DiabetesLevel</th>\n",
       "      <th>Outcome</th>\n",
       "      <th>AgeCategory</th>\n",
       "      <th>gender</th>\n",
       "    </tr>\n",
       "  </thead>\n",
       "  <tbody>\n",
       "    <tr>\n",
       "      <th>0</th>\n",
       "      <td>6</td>\n",
       "      <td>148</td>\n",
       "      <td>72</td>\n",
       "      <td>35</td>\n",
       "      <td>0</td>\n",
       "      <td>33.6</td>\n",
       "      <td>0.627</td>\n",
       "      <td>1</td>\n",
       "      <td>Adult</td>\n",
       "      <td>female</td>\n",
       "    </tr>\n",
       "    <tr>\n",
       "      <th>1</th>\n",
       "      <td>1</td>\n",
       "      <td>85</td>\n",
       "      <td>66</td>\n",
       "      <td>29</td>\n",
       "      <td>0</td>\n",
       "      <td>26.6</td>\n",
       "      <td>0.351</td>\n",
       "      <td>0</td>\n",
       "      <td>Young</td>\n",
       "      <td>female</td>\n",
       "    </tr>\n",
       "    <tr>\n",
       "      <th>2</th>\n",
       "      <td>8</td>\n",
       "      <td>183</td>\n",
       "      <td>64</td>\n",
       "      <td>0</td>\n",
       "      <td>0</td>\n",
       "      <td>23.3</td>\n",
       "      <td>0.672</td>\n",
       "      <td>1</td>\n",
       "      <td>Adult</td>\n",
       "      <td>female</td>\n",
       "    </tr>\n",
       "    <tr>\n",
       "      <th>3</th>\n",
       "      <td>1</td>\n",
       "      <td>89</td>\n",
       "      <td>66</td>\n",
       "      <td>23</td>\n",
       "      <td>94</td>\n",
       "      <td>28.1</td>\n",
       "      <td>0.167</td>\n",
       "      <td>0</td>\n",
       "      <td>Young</td>\n",
       "      <td>female</td>\n",
       "    </tr>\n",
       "    <tr>\n",
       "      <th>4</th>\n",
       "      <td>0</td>\n",
       "      <td>137</td>\n",
       "      <td>40</td>\n",
       "      <td>35</td>\n",
       "      <td>168</td>\n",
       "      <td>43.1</td>\n",
       "      <td>2.288</td>\n",
       "      <td>1</td>\n",
       "      <td>Adult</td>\n",
       "      <td>male</td>\n",
       "    </tr>\n",
       "    <tr>\n",
       "      <th>...</th>\n",
       "      <td>...</td>\n",
       "      <td>...</td>\n",
       "      <td>...</td>\n",
       "      <td>...</td>\n",
       "      <td>...</td>\n",
       "      <td>...</td>\n",
       "      <td>...</td>\n",
       "      <td>...</td>\n",
       "      <td>...</td>\n",
       "      <td>...</td>\n",
       "    </tr>\n",
       "    <tr>\n",
       "      <th>763</th>\n",
       "      <td>10</td>\n",
       "      <td>101</td>\n",
       "      <td>76</td>\n",
       "      <td>48</td>\n",
       "      <td>180</td>\n",
       "      <td>32.9</td>\n",
       "      <td>0.171</td>\n",
       "      <td>0</td>\n",
       "      <td>Mature</td>\n",
       "      <td>female</td>\n",
       "    </tr>\n",
       "    <tr>\n",
       "      <th>764</th>\n",
       "      <td>2</td>\n",
       "      <td>122</td>\n",
       "      <td>70</td>\n",
       "      <td>27</td>\n",
       "      <td>0</td>\n",
       "      <td>36.8</td>\n",
       "      <td>0.340</td>\n",
       "      <td>0</td>\n",
       "      <td>Young</td>\n",
       "      <td>female</td>\n",
       "    </tr>\n",
       "    <tr>\n",
       "      <th>765</th>\n",
       "      <td>5</td>\n",
       "      <td>121</td>\n",
       "      <td>72</td>\n",
       "      <td>23</td>\n",
       "      <td>112</td>\n",
       "      <td>26.2</td>\n",
       "      <td>0.245</td>\n",
       "      <td>0</td>\n",
       "      <td>Young</td>\n",
       "      <td>female</td>\n",
       "    </tr>\n",
       "    <tr>\n",
       "      <th>766</th>\n",
       "      <td>1</td>\n",
       "      <td>126</td>\n",
       "      <td>60</td>\n",
       "      <td>0</td>\n",
       "      <td>0</td>\n",
       "      <td>30.1</td>\n",
       "      <td>0.349</td>\n",
       "      <td>1</td>\n",
       "      <td>Adult</td>\n",
       "      <td>female</td>\n",
       "    </tr>\n",
       "    <tr>\n",
       "      <th>767</th>\n",
       "      <td>1</td>\n",
       "      <td>93</td>\n",
       "      <td>70</td>\n",
       "      <td>31</td>\n",
       "      <td>0</td>\n",
       "      <td>30.4</td>\n",
       "      <td>0.315</td>\n",
       "      <td>0</td>\n",
       "      <td>Young</td>\n",
       "      <td>female</td>\n",
       "    </tr>\n",
       "  </tbody>\n",
       "</table>\n",
       "<p>768 rows × 10 columns</p>\n",
       "</div>"
      ],
      "text/plain": [
       "     Pregnancies  Glucose  BloodPressure  SkinThickness  Insulin   BMI  \\\n",
       "0              6      148             72             35        0  33.6   \n",
       "1              1       85             66             29        0  26.6   \n",
       "2              8      183             64              0        0  23.3   \n",
       "3              1       89             66             23       94  28.1   \n",
       "4              0      137             40             35      168  43.1   \n",
       "..           ...      ...            ...            ...      ...   ...   \n",
       "763           10      101             76             48      180  32.9   \n",
       "764            2      122             70             27        0  36.8   \n",
       "765            5      121             72             23      112  26.2   \n",
       "766            1      126             60              0        0  30.1   \n",
       "767            1       93             70             31        0  30.4   \n",
       "\n",
       "     DiabetesLevel  Outcome AgeCategory  gender  \n",
       "0            0.627        1       Adult  female  \n",
       "1            0.351        0       Young  female  \n",
       "2            0.672        1       Adult  female  \n",
       "3            0.167        0       Young  female  \n",
       "4            2.288        1       Adult    male  \n",
       "..             ...      ...         ...     ...  \n",
       "763          0.171        0      Mature  female  \n",
       "764          0.340        0       Young  female  \n",
       "765          0.245        0       Young  female  \n",
       "766          0.349        1       Adult  female  \n",
       "767          0.315        0       Young  female  \n",
       "\n",
       "[768 rows x 10 columns]"
      ]
     },
     "execution_count": 5,
     "metadata": {},
     "output_type": "execute_result"
    }
   ],
   "source": [
    "data[\"gender\"] = data[\"Pregnancies\"].apply(lambda x: \"male\" if x==0 else \"female\")\n",
    "data"
   ]
  },
  {
   "cell_type": "code",
   "execution_count": 6,
   "id": "287fbf00",
   "metadata": {},
   "outputs": [
    {
     "data": {
      "text/plain": [
       "110"
      ]
     },
     "execution_count": 6,
     "metadata": {},
     "output_type": "execute_result"
    }
   ],
   "source": [
    "data.groupby(\"gender\")[\"BloodPressure\"].max().values[1]"
   ]
  },
  {
   "cell_type": "markdown",
   "id": "b4e040d6",
   "metadata": {},
   "source": [
    "### Exercise 4"
   ]
  },
  {
   "cell_type": "code",
   "execution_count": 7,
   "id": "14ee62db",
   "metadata": {},
   "outputs": [
    {
     "data": {
      "text/plain": [
       "gender\n",
       "male    22.27027\n",
       "Name: SkinThickness, dtype: float64"
      ]
     },
     "execution_count": 7,
     "metadata": {},
     "output_type": "execute_result"
    }
   ],
   "source": [
    "data.groupby(\"gender\")[\"SkinThickness\"].mean().tail(1)"
   ]
  },
  {
   "cell_type": "markdown",
   "id": "2ae5219a",
   "metadata": {},
   "source": [
    "### Exercise 5"
   ]
  },
  {
   "cell_type": "code",
   "execution_count": 8,
   "id": "63ca0cf9",
   "metadata": {},
   "outputs": [
    {
     "data": {
      "image/png": "[encoded data removed]",
      "text/plain": [
       "<Figure size 432x288 with 1 Axes>"
      ]
     },
     "metadata": {},
     "output_type": "display_data"
    }
   ],
   "source": [
    "data.groupby(\"gender\")[\"BloodPressure\"].hist(legend=True, alpha=0.7)\n",
    "plt.show()"
   ]
  },
  {
   "cell_type": "markdown",
   "id": "d46e9a9c",
   "metadata": {},
   "source": [
    "ההתפלגות לחץ דם של גברים ונשים היא די דומה רק שיש הרבה יותר נשים מגברים בדטה"
   ]
  },
  {
   "cell_type": "markdown",
   "id": "9b2f39dd",
   "metadata": {},
   "source": [
    "### Exercise 6"
   ]
  },
  {
   "cell_type": "code",
   "execution_count": 9,
   "id": "6bc944a9",
   "metadata": {},
   "outputs": [
    {
     "data": {
      "text/plain": [
       "'Mature'"
      ]
     },
     "execution_count": 9,
     "metadata": {},
     "output_type": "execute_result"
    }
   ],
   "source": [
    "data.groupby(\"AgeCategory\")[\"Glucose\"].mean().index[1]"
   ]
  },
  {
   "cell_type": "markdown",
   "id": "fb1b9270",
   "metadata": {},
   "source": [
    "### Exercise 7"
   ]
  },
  {
   "cell_type": "code",
   "execution_count": 10,
   "id": "75d8d48b",
   "metadata": {},
   "outputs": [
    {
     "data": {
      "text/plain": [
       "58.174418604651166"
      ]
     },
     "execution_count": 10,
     "metadata": {},
     "output_type": "execute_result"
    }
   ],
   "source": [
    "data[\"Insulin\"][data[\"Pregnancies\"]>8].mean()"
   ]
  },
  {
   "cell_type": "markdown",
   "id": "4f6596b8",
   "metadata": {},
   "source": [
    "### Exercise 8"
   ]
  },
  {
   "cell_type": "code",
   "execution_count": 11,
   "id": "d77a3642",
   "metadata": {},
   "outputs": [
    {
     "data": {
      "image/png": "[encoded data removed]",
      "text/plain": [
       "<Figure size 432x288 with 1 Axes>"
      ]
     },
     "metadata": {},
     "output_type": "display_data"
    }
   ],
   "source": [
    "plt.scatter(x=data[\"BloodPressure\"], y=data[\"Glucose\"])\n",
    "plt.xlabel(\"BloodPressure\")\n",
    "plt.ylabel(\"Glucose\")\n",
    "plt.show()"
   ]
  },
  {
   "cell_type": "markdown",
   "id": "bb33e37b",
   "metadata": {},
   "source": [
    "# Part B"
   ]
  },
  {
   "cell_type": "markdown",
   "id": "73220da6",
   "metadata": {},
   "source": [
    "### Exercise 1"
   ]
  },
  {
   "cell_type": "code",
   "execution_count": 12,
   "id": "7951ad93",
   "metadata": {
    "scrolled": true
   },
   "outputs": [
    {
     "name": "stdout",
     "output_type": "stream",
     "text": [
      "<class 'pandas.core.frame.DataFrame'>\n",
      "RangeIndex: 768 entries, 0 to 767\n",
      "Data columns (total 10 columns):\n",
      " #   Column         Non-Null Count  Dtype  \n",
      "---  ------         --------------  -----  \n",
      " 0   Pregnancies    768 non-null    int64  \n",
      " 1   Glucose        768 non-null    int64  \n",
      " 2   BloodPressure  768 non-null    int64  \n",
      " 3   SkinThickness  768 non-null    int64  \n",
      " 4   Insulin        768 non-null    int64  \n",
      " 5   BMI            768 non-null    float64\n",
      " 6   DiabetesLevel  768 non-null    float64\n",
      " 7   Outcome        768 non-null    int64  \n",
      " 8   AgeCategory    768 non-null    object \n",
      " 9   gender         768 non-null    object \n",
      "dtypes: float64(2), int64(6), object(2)\n",
      "memory usage: 60.1+ KB\n"
     ]
    }
   ],
   "source": [
    "data.info()"
   ]
  },
  {
   "cell_type": "markdown",
   "id": "5d965055",
   "metadata": {},
   "source": [
    "### Exercise 2"
   ]
  },
  {
   "cell_type": "code",
   "execution_count": 13,
   "id": "c5f63d83",
   "metadata": {},
   "outputs": [],
   "source": [
    "new_data = data[[\"Pregnancies\",\"Glucose\",\"BloodPressure\",\n",
    "                 \"SkinThickness\",\"Insulin\",\"BMI\",\"DiabetesLevel\",\"Outcome\",\"AgeCategory\"]]"
   ]
  },
  {
   "cell_type": "code",
   "execution_count": 14,
   "id": "a937b3b6",
   "metadata": {},
   "outputs": [
    {
     "data": {
      "text/html": [
       "<div>\n",
       "<style scoped>\n",
       "    .dataframe tbody tr th:only-of-type {\n",
       "        vertical-align: middle;\n",
       "    }\n",
       "\n",
       "    .dataframe tbody tr th {\n",
       "        vertical-align: top;\n",
       "    }\n",
       "\n",
       "    .dataframe thead th {\n",
       "        text-align: right;\n",
       "    }\n",
       "</style>\n",
       "<table border=\"1\" class=\"dataframe\">\n",
       "  <thead>\n",
       "    <tr style=\"text-align: right;\">\n",
       "      <th></th>\n",
       "      <th>Pregnancies</th>\n",
       "      <th>Glucose</th>\n",
       "      <th>BloodPressure</th>\n",
       "      <th>SkinThickness</th>\n",
       "      <th>Insulin</th>\n",
       "      <th>BMI</th>\n",
       "      <th>DiabetesLevel</th>\n",
       "      <th>Outcome</th>\n",
       "      <th>AgeCategory_Adult</th>\n",
       "      <th>AgeCategory_Mature</th>\n",
       "      <th>AgeCategory_Young</th>\n",
       "    </tr>\n",
       "  </thead>\n",
       "  <tbody>\n",
       "    <tr>\n",
       "      <th>0</th>\n",
       "      <td>6</td>\n",
       "      <td>148</td>\n",
       "      <td>72</td>\n",
       "      <td>35</td>\n",
       "      <td>0</td>\n",
       "      <td>33.6</td>\n",
       "      <td>0.627</td>\n",
       "      <td>1</td>\n",
       "      <td>1</td>\n",
       "      <td>0</td>\n",
       "      <td>0</td>\n",
       "    </tr>\n",
       "    <tr>\n",
       "      <th>1</th>\n",
       "      <td>1</td>\n",
       "      <td>85</td>\n",
       "      <td>66</td>\n",
       "      <td>29</td>\n",
       "      <td>0</td>\n",
       "      <td>26.6</td>\n",
       "      <td>0.351</td>\n",
       "      <td>0</td>\n",
       "      <td>0</td>\n",
       "      <td>0</td>\n",
       "      <td>1</td>\n",
       "    </tr>\n",
       "    <tr>\n",
       "      <th>2</th>\n",
       "      <td>8</td>\n",
       "      <td>183</td>\n",
       "      <td>64</td>\n",
       "      <td>0</td>\n",
       "      <td>0</td>\n",
       "      <td>23.3</td>\n",
       "      <td>0.672</td>\n",
       "      <td>1</td>\n",
       "      <td>1</td>\n",
       "      <td>0</td>\n",
       "      <td>0</td>\n",
       "    </tr>\n",
       "    <tr>\n",
       "      <th>3</th>\n",
       "      <td>1</td>\n",
       "      <td>89</td>\n",
       "      <td>66</td>\n",
       "      <td>23</td>\n",
       "      <td>94</td>\n",
       "      <td>28.1</td>\n",
       "      <td>0.167</td>\n",
       "      <td>0</td>\n",
       "      <td>0</td>\n",
       "      <td>0</td>\n",
       "      <td>1</td>\n",
       "    </tr>\n",
       "    <tr>\n",
       "      <th>4</th>\n",
       "      <td>0</td>\n",
       "      <td>137</td>\n",
       "      <td>40</td>\n",
       "      <td>35</td>\n",
       "      <td>168</td>\n",
       "      <td>43.1</td>\n",
       "      <td>2.288</td>\n",
       "      <td>1</td>\n",
       "      <td>1</td>\n",
       "      <td>0</td>\n",
       "      <td>0</td>\n",
       "    </tr>\n",
       "    <tr>\n",
       "      <th>...</th>\n",
       "      <td>...</td>\n",
       "      <td>...</td>\n",
       "      <td>...</td>\n",
       "      <td>...</td>\n",
       "      <td>...</td>\n",
       "      <td>...</td>\n",
       "      <td>...</td>\n",
       "      <td>...</td>\n",
       "      <td>...</td>\n",
       "      <td>...</td>\n",
       "      <td>...</td>\n",
       "    </tr>\n",
       "    <tr>\n",
       "      <th>763</th>\n",
       "      <td>10</td>\n",
       "      <td>101</td>\n",
       "      <td>76</td>\n",
       "      <td>48</td>\n",
       "      <td>180</td>\n",
       "      <td>32.9</td>\n",
       "      <td>0.171</td>\n",
       "      <td>0</td>\n",
       "      <td>0</td>\n",
       "      <td>1</td>\n",
       "      <td>0</td>\n",
       "    </tr>\n",
       "    <tr>\n",
       "      <th>764</th>\n",
       "      <td>2</td>\n",
       "      <td>122</td>\n",
       "      <td>70</td>\n",
       "      <td>27</td>\n",
       "      <td>0</td>\n",
       "      <td>36.8</td>\n",
       "      <td>0.340</td>\n",
       "      <td>0</td>\n",
       "      <td>0</td>\n",
       "      <td>0</td>\n",
       "      <td>1</td>\n",
       "    </tr>\n",
       "    <tr>\n",
       "      <th>765</th>\n",
       "      <td>5</td>\n",
       "      <td>121</td>\n",
       "      <td>72</td>\n",
       "      <td>23</td>\n",
       "      <td>112</td>\n",
       "      <td>26.2</td>\n",
       "      <td>0.245</td>\n",
       "      <td>0</td>\n",
       "      <td>0</td>\n",
       "      <td>0</td>\n",
       "      <td>1</td>\n",
       "    </tr>\n",
       "    <tr>\n",
       "      <th>766</th>\n",
       "      <td>1</td>\n",
       "      <td>126</td>\n",
       "      <td>60</td>\n",
       "      <td>0</td>\n",
       "      <td>0</td>\n",
       "      <td>30.1</td>\n",
       "      <td>0.349</td>\n",
       "      <td>1</td>\n",
       "      <td>1</td>\n",
       "      <td>0</td>\n",
       "      <td>0</td>\n",
       "    </tr>\n",
       "    <tr>\n",
       "      <th>767</th>\n",
       "      <td>1</td>\n",
       "      <td>93</td>\n",
       "      <td>70</td>\n",
       "      <td>31</td>\n",
       "      <td>0</td>\n",
       "      <td>30.4</td>\n",
       "      <td>0.315</td>\n",
       "      <td>0</td>\n",
       "      <td>0</td>\n",
       "      <td>0</td>\n",
       "      <td>1</td>\n",
       "    </tr>\n",
       "  </tbody>\n",
       "</table>\n",
       "<p>768 rows × 11 columns</p>\n",
       "</div>"
      ],
      "text/plain": [
       "     Pregnancies  Glucose  BloodPressure  SkinThickness  Insulin   BMI  \\\n",
       "0              6      148             72             35        0  33.6   \n",
       "1              1       85             66             29        0  26.6   \n",
       "2              8      183             64              0        0  23.3   \n",
       "3              1       89             66             23       94  28.1   \n",
       "4              0      137             40             35      168  43.1   \n",
       "..           ...      ...            ...            ...      ...   ...   \n",
       "763           10      101             76             48      180  32.9   \n",
       "764            2      122             70             27        0  36.8   \n",
       "765            5      121             72             23      112  26.2   \n",
       "766            1      126             60              0        0  30.1   \n",
       "767            1       93             70             31        0  30.4   \n",
       "\n",
       "     DiabetesLevel  Outcome  AgeCategory_Adult  AgeCategory_Mature  \\\n",
       "0            0.627        1                  1                   0   \n",
       "1            0.351        0                  0                   0   \n",
       "2            0.672        1                  1                   0   \n",
       "3            0.167        0                  0                   0   \n",
       "4            2.288        1                  1                   0   \n",
       "..             ...      ...                ...                 ...   \n",
       "763          0.171        0                  0                   1   \n",
       "764          0.340        0                  0                   0   \n",
       "765          0.245        0                  0                   0   \n",
       "766          0.349        1                  1                   0   \n",
       "767          0.315        0                  0                   0   \n",
       "\n",
       "     AgeCategory_Young  \n",
       "0                    0  \n",
       "1                    1  \n",
       "2                    0  \n",
       "3                    1  \n",
       "4                    0  \n",
       "..                 ...  \n",
       "763                  0  \n",
       "764                  1  \n",
       "765                  1  \n",
       "766                  0  \n",
       "767                  1  \n",
       "\n",
       "[768 rows x 11 columns]"
      ]
     },
     "execution_count": 14,
     "metadata": {},
     "output_type": "execute_result"
    }
   ],
   "source": [
    "dummy_data = pd.get_dummies(new_data)\n",
    "dummy_data"
   ]
  },
  {
   "cell_type": "markdown",
   "id": "4f6002c3",
   "metadata": {},
   "source": [
    "### Exercise 3"
   ]
  },
  {
   "cell_type": "code",
   "execution_count": 15,
   "id": "d703065c",
   "metadata": {},
   "outputs": [],
   "source": [
    "normalizer = MinMaxScaler()\n",
    "normalized_data = pd.DataFrame(normalizer.fit_transform(dummy_data),\n",
    "                              columns=dummy_data.columns)"
   ]
  },
  {
   "cell_type": "code",
   "execution_count": 16,
   "id": "31aef0f2",
   "metadata": {},
   "outputs": [
    {
     "data": {
      "text/html": [
       "<div>\n",
       "<style scoped>\n",
       "    .dataframe tbody tr th:only-of-type {\n",
       "        vertical-align: middle;\n",
       "    }\n",
       "\n",
       "    .dataframe tbody tr th {\n",
       "        vertical-align: top;\n",
       "    }\n",
       "\n",
       "    .dataframe thead th {\n",
       "        text-align: right;\n",
       "    }\n",
       "</style>\n",
       "<table border=\"1\" class=\"dataframe\">\n",
       "  <thead>\n",
       "    <tr style=\"text-align: right;\">\n",
       "      <th></th>\n",
       "      <th>Pregnancies</th>\n",
       "      <th>Glucose</th>\n",
       "      <th>BloodPressure</th>\n",
       "      <th>SkinThickness</th>\n",
       "      <th>Insulin</th>\n",
       "      <th>BMI</th>\n",
       "      <th>DiabetesLevel</th>\n",
       "      <th>Outcome</th>\n",
       "      <th>AgeCategory_Adult</th>\n",
       "      <th>AgeCategory_Mature</th>\n",
       "      <th>AgeCategory_Young</th>\n",
       "    </tr>\n",
       "  </thead>\n",
       "  <tbody>\n",
       "    <tr>\n",
       "      <th>0</th>\n",
       "      <td>0.352941</td>\n",
       "      <td>0.743719</td>\n",
       "      <td>0.590164</td>\n",
       "      <td>0.353535</td>\n",
       "      <td>0.000000</td>\n",
       "      <td>0.500745</td>\n",
       "      <td>0.234415</td>\n",
       "      <td>1.0</td>\n",
       "      <td>1.0</td>\n",
       "      <td>0.0</td>\n",
       "      <td>0.0</td>\n",
       "    </tr>\n",
       "    <tr>\n",
       "      <th>1</th>\n",
       "      <td>0.058824</td>\n",
       "      <td>0.427136</td>\n",
       "      <td>0.540984</td>\n",
       "      <td>0.292929</td>\n",
       "      <td>0.000000</td>\n",
       "      <td>0.396423</td>\n",
       "      <td>0.116567</td>\n",
       "      <td>0.0</td>\n",
       "      <td>0.0</td>\n",
       "      <td>0.0</td>\n",
       "      <td>1.0</td>\n",
       "    </tr>\n",
       "    <tr>\n",
       "      <th>2</th>\n",
       "      <td>0.470588</td>\n",
       "      <td>0.919598</td>\n",
       "      <td>0.524590</td>\n",
       "      <td>0.000000</td>\n",
       "      <td>0.000000</td>\n",
       "      <td>0.347243</td>\n",
       "      <td>0.253629</td>\n",
       "      <td>1.0</td>\n",
       "      <td>1.0</td>\n",
       "      <td>0.0</td>\n",
       "      <td>0.0</td>\n",
       "    </tr>\n",
       "    <tr>\n",
       "      <th>3</th>\n",
       "      <td>0.058824</td>\n",
       "      <td>0.447236</td>\n",
       "      <td>0.540984</td>\n",
       "      <td>0.232323</td>\n",
       "      <td>0.111111</td>\n",
       "      <td>0.418778</td>\n",
       "      <td>0.038002</td>\n",
       "      <td>0.0</td>\n",
       "      <td>0.0</td>\n",
       "      <td>0.0</td>\n",
       "      <td>1.0</td>\n",
       "    </tr>\n",
       "    <tr>\n",
       "      <th>4</th>\n",
       "      <td>0.000000</td>\n",
       "      <td>0.688442</td>\n",
       "      <td>0.327869</td>\n",
       "      <td>0.353535</td>\n",
       "      <td>0.198582</td>\n",
       "      <td>0.642325</td>\n",
       "      <td>0.943638</td>\n",
       "      <td>1.0</td>\n",
       "      <td>1.0</td>\n",
       "      <td>0.0</td>\n",
       "      <td>0.0</td>\n",
       "    </tr>\n",
       "    <tr>\n",
       "      <th>...</th>\n",
       "      <td>...</td>\n",
       "      <td>...</td>\n",
       "      <td>...</td>\n",
       "      <td>...</td>\n",
       "      <td>...</td>\n",
       "      <td>...</td>\n",
       "      <td>...</td>\n",
       "      <td>...</td>\n",
       "      <td>...</td>\n",
       "      <td>...</td>\n",
       "      <td>...</td>\n",
       "    </tr>\n",
       "    <tr>\n",
       "      <th>763</th>\n",
       "      <td>0.588235</td>\n",
       "      <td>0.507538</td>\n",
       "      <td>0.622951</td>\n",
       "      <td>0.484848</td>\n",
       "      <td>0.212766</td>\n",
       "      <td>0.490313</td>\n",
       "      <td>0.039710</td>\n",
       "      <td>0.0</td>\n",
       "      <td>0.0</td>\n",
       "      <td>1.0</td>\n",
       "      <td>0.0</td>\n",
       "    </tr>\n",
       "    <tr>\n",
       "      <th>764</th>\n",
       "      <td>0.117647</td>\n",
       "      <td>0.613065</td>\n",
       "      <td>0.573770</td>\n",
       "      <td>0.272727</td>\n",
       "      <td>0.000000</td>\n",
       "      <td>0.548435</td>\n",
       "      <td>0.111870</td>\n",
       "      <td>0.0</td>\n",
       "      <td>0.0</td>\n",
       "      <td>0.0</td>\n",
       "      <td>1.0</td>\n",
       "    </tr>\n",
       "    <tr>\n",
       "      <th>765</th>\n",
       "      <td>0.294118</td>\n",
       "      <td>0.608040</td>\n",
       "      <td>0.590164</td>\n",
       "      <td>0.232323</td>\n",
       "      <td>0.132388</td>\n",
       "      <td>0.390462</td>\n",
       "      <td>0.071307</td>\n",
       "      <td>0.0</td>\n",
       "      <td>0.0</td>\n",
       "      <td>0.0</td>\n",
       "      <td>1.0</td>\n",
       "    </tr>\n",
       "    <tr>\n",
       "      <th>766</th>\n",
       "      <td>0.058824</td>\n",
       "      <td>0.633166</td>\n",
       "      <td>0.491803</td>\n",
       "      <td>0.000000</td>\n",
       "      <td>0.000000</td>\n",
       "      <td>0.448584</td>\n",
       "      <td>0.115713</td>\n",
       "      <td>1.0</td>\n",
       "      <td>1.0</td>\n",
       "      <td>0.0</td>\n",
       "      <td>0.0</td>\n",
       "    </tr>\n",
       "    <tr>\n",
       "      <th>767</th>\n",
       "      <td>0.058824</td>\n",
       "      <td>0.467337</td>\n",
       "      <td>0.573770</td>\n",
       "      <td>0.313131</td>\n",
       "      <td>0.000000</td>\n",
       "      <td>0.453055</td>\n",
       "      <td>0.101196</td>\n",
       "      <td>0.0</td>\n",
       "      <td>0.0</td>\n",
       "      <td>0.0</td>\n",
       "      <td>1.0</td>\n",
       "    </tr>\n",
       "  </tbody>\n",
       "</table>\n",
       "<p>768 rows × 11 columns</p>\n",
       "</div>"
      ],
      "text/plain": [
       "     Pregnancies   Glucose  BloodPressure  SkinThickness   Insulin       BMI  \\\n",
       "0       0.352941  0.743719       0.590164       0.353535  0.000000  0.500745   \n",
       "1       0.058824  0.427136       0.540984       0.292929  0.000000  0.396423   \n",
       "2       0.470588  0.919598       0.524590       0.000000  0.000000  0.347243   \n",
       "3       0.058824  0.447236       0.540984       0.232323  0.111111  0.418778   \n",
       "4       0.000000  0.688442       0.327869       0.353535  0.198582  0.642325   \n",
       "..           ...       ...            ...            ...       ...       ...   \n",
       "763     0.588235  0.507538       0.622951       0.484848  0.212766  0.490313   \n",
       "764     0.117647  0.613065       0.573770       0.272727  0.000000  0.548435   \n",
       "765     0.294118  0.608040       0.590164       0.232323  0.132388  0.390462   \n",
       "766     0.058824  0.633166       0.491803       0.000000  0.000000  0.448584   \n",
       "767     0.058824  0.467337       0.573770       0.313131  0.000000  0.453055   \n",
       "\n",
       "     DiabetesLevel  Outcome  AgeCategory_Adult  AgeCategory_Mature  \\\n",
       "0         0.234415      1.0                1.0                 0.0   \n",
       "1         0.116567      0.0                0.0                 0.0   \n",
       "2         0.253629      1.0                1.0                 0.0   \n",
       "3         0.038002      0.0                0.0                 0.0   \n",
       "4         0.943638      1.0                1.0                 0.0   \n",
       "..             ...      ...                ...                 ...   \n",
       "763       0.039710      0.0                0.0                 1.0   \n",
       "764       0.111870      0.0                0.0                 0.0   \n",
       "765       0.071307      0.0                0.0                 0.0   \n",
       "766       0.115713      1.0                1.0                 0.0   \n",
       "767       0.101196      0.0                0.0                 0.0   \n",
       "\n",
       "     AgeCategory_Young  \n",
       "0                  0.0  \n",
       "1                  1.0  \n",
       "2                  0.0  \n",
       "3                  1.0  \n",
       "4                  0.0  \n",
       "..                 ...  \n",
       "763                0.0  \n",
       "764                1.0  \n",
       "765                1.0  \n",
       "766                0.0  \n",
       "767                1.0  \n",
       "\n",
       "[768 rows x 11 columns]"
      ]
     },
     "execution_count": 16,
     "metadata": {},
     "output_type": "execute_result"
    }
   ],
   "source": [
    "normalized_data"
   ]
  },
  {
   "cell_type": "markdown",
   "id": "675fc7ae",
   "metadata": {},
   "source": [
    "### Exercise 4"
   ]
  },
  {
   "cell_type": "code",
   "execution_count": 17,
   "id": "a57c7f52",
   "metadata": {},
   "outputs": [],
   "source": [
    "normalized_sse = []\n",
    "for i in range(2,16):\n",
    "    kmeans = KMeans(n_clusters=i)\n",
    "    kmeans.fit(normalized_data)\n",
    "    normalized_sse.append(kmeans.inertia_)"
   ]
  },
  {
   "cell_type": "code",
   "execution_count": 18,
   "id": "6f353baf",
   "metadata": {},
   "outputs": [
    {
     "data": {
      "image/png": "[encoded data removed]",
      "text/plain": [
       "<Figure size 432x288 with 1 Axes>"
      ]
     },
     "metadata": {},
     "output_type": "display_data"
    }
   ],
   "source": [
    "normalized_result = pd.DataFrame({\n",
    "    \"K\": range(2,16),\n",
    "    \"SSE\": normalized_sse\n",
    "})\n",
    "normalized_result.set_index(\"K\", inplace=True)\n",
    "normalized_result[\"SSE\"].plot()\n",
    "plt.show()"
   ]
  },
  {
   "cell_type": "code",
   "execution_count": 19,
   "id": "1a323065",
   "metadata": {},
   "outputs": [],
   "source": [
    "dummy_sse = []\n",
    "for i in range(2,16):\n",
    "    kmeans = KMeans(n_clusters=i)\n",
    "    kmeans.fit(dummy_data)\n",
    "    dummy_sse.append(kmeans.inertia_)"
   ]
  },
  {
   "cell_type": "code",
   "execution_count": 20,
   "id": "12946c82",
   "metadata": {},
   "outputs": [
    {
     "data": {
      "image/png": "[encoded data removed]",
      "text/plain": [
       "<Figure size 432x288 with 1 Axes>"
      ]
     },
     "metadata": {},
     "output_type": "display_data"
    }
   ],
   "source": [
    "dummy_result = pd.DataFrame({\n",
    "    \"K\": range(2,16),\n",
    "    \"SSE\": dummy_sse\n",
    "})\n",
    "dummy_result.set_index(\"K\", inplace=True)\n",
    "dummy_result[\"SSE\"].plot()\n",
    "plt.show()"
   ]
  },
  {
   "cell_type": "markdown",
   "id": "34563b5b",
   "metadata": {},
   "source": [
    "### Exercise 5"
   ]
  },
  {
   "cell_type": "code",
   "execution_count": 21,
   "id": "99ebe77b",
   "metadata": {},
   "outputs": [
    {
     "data": {
      "text/plain": [
       "KMeans(n_clusters=5)"
      ]
     },
     "execution_count": 21,
     "metadata": {},
     "output_type": "execute_result"
    }
   ],
   "source": [
    "normalized_kmeans = KMeans(n_clusters=5)\n",
    "normalized_kmeans.fit(normalized_data)"
   ]
  },
  {
   "cell_type": "code",
   "execution_count": 22,
   "id": "2318977f",
   "metadata": {},
   "outputs": [
    {
     "data": {
      "text/plain": [
       "array([0, 1, 0, 1, 0, 1, 4, 1, 0, 0, 1, 0, 3, 3, 0, 0, 4, 4, 2, 0, 1, 2,\n",
       "       0, 4, 0, 0, 0, 1, 3, 2, 3, 4, 1, 1, 2, 2, 2, 0, 4, 3, 1, 2, 2, 0,\n",
       "       2, 4, 1, 1, 4, 1, 1, 1, 1, 3, 2, 1, 0, 1, 2, 1, 1, 0, 2, 1, 0, 2,\n",
       "       0, 2, 1, 1, 4, 1, 0, 1, 1, 1, 2, 1, 4, 1, 1, 1, 2, 1, 0, 1, 2, 1,\n",
       "       0, 1, 1, 2, 2, 3, 1, 2, 1, 1, 1, 4, 0, 1, 1, 1, 1, 1, 1, 2, 1, 4,\n",
       "       4, 0, 1, 1, 0, 3, 0, 1, 1, 1, 4, 1, 1, 3, 4, 4, 1, 1, 0, 3, 0, 0,\n",
       "       4, 2, 1, 1, 1, 1, 1, 1, 2, 2, 1, 0, 1, 1, 2, 2, 3, 1, 1, 2, 0, 1,\n",
       "       0, 0, 1, 1, 1, 0, 2, 2, 1, 1, 0, 0, 1, 2, 1, 1, 0, 4, 1, 1, 2, 0,\n",
       "       2, 4, 2, 0, 2, 1, 1, 1, 2, 0, 3, 0, 4, 4, 1, 2, 0, 0, 2, 4, 1, 4,\n",
       "       4, 4, 1, 1, 2, 1, 2, 1, 3, 0, 1, 0, 1, 1, 3, 4, 0, 0, 4, 2, 0, 0,\n",
       "       4, 3, 2, 3, 1, 1, 1, 4, 1, 1, 4, 0, 1, 1, 1, 4, 0, 4, 0, 1, 1, 1,\n",
       "       4, 0, 1, 0, 2, 1, 2, 1, 2, 1, 1, 1, 0, 4, 1, 1, 1, 0, 2, 4, 1, 3,\n",
       "       0, 2, 4, 1, 1, 4, 0, 1, 2, 1, 2, 1, 4, 1, 3, 1, 4, 2, 2, 0, 0, 2,\n",
       "       2, 4, 1, 2, 1, 4, 4, 4, 3, 1, 4, 1, 0, 3, 4, 4, 2, 4, 2, 1, 0, 1,\n",
       "       4, 4, 2, 1, 4, 1, 0, 1, 1, 4, 1, 3, 1, 4, 0, 0, 1, 1, 4, 2, 4, 2,\n",
       "       2, 1, 0, 2, 1, 1, 2, 0, 0, 0, 1, 2, 1, 2, 3, 2, 1, 1, 1, 0, 1, 1,\n",
       "       2, 1, 1, 0, 4, 0, 2, 4, 4, 3, 3, 3, 1, 1, 4, 1, 1, 0, 4, 1, 1, 1,\n",
       "       1, 3, 1, 1, 0, 2, 1, 1, 1, 1, 1, 1, 0, 0, 3, 1, 2, 4, 1, 2, 4, 1,\n",
       "       2, 4, 1, 4, 4, 2, 0, 2, 0, 1, 0, 1, 0, 4, 1, 1, 1, 1, 4, 4, 1, 0,\n",
       "       1, 4, 1, 1, 1, 1, 0, 4, 1, 0, 1, 0, 1, 2, 1, 1, 2, 4, 2, 1, 1, 1,\n",
       "       0, 1, 1, 0, 4, 4, 1, 1, 4, 1, 1, 4, 1, 3, 1, 0, 3, 1, 0, 3, 2, 1,\n",
       "       2, 2, 2, 1, 1, 1, 0, 1, 1, 1, 1, 2, 1, 3, 4, 1, 2, 3, 0, 1, 1, 1,\n",
       "       4, 4, 1, 3, 1, 3, 1, 2, 2, 0, 1, 3, 1, 1, 0, 2, 1, 1, 0, 2, 2, 2,\n",
       "       0, 1, 1, 3, 0, 1, 3, 1, 1, 4, 0, 2, 2, 3, 1, 1, 1, 0, 1, 1, 1, 1,\n",
       "       1, 1, 1, 1, 1, 1, 1, 4, 2, 3, 1, 0, 0, 4, 3, 1, 1, 0, 0, 1, 2, 2,\n",
       "       1, 1, 3, 1, 1, 2, 1, 3, 2, 2, 0, 4, 1, 2, 1, 1, 1, 2, 2, 0, 2, 1,\n",
       "       1, 1, 1, 1, 2, 4, 2, 3, 4, 1, 3, 2, 0, 1, 0, 1, 0, 1, 0, 1, 0, 1,\n",
       "       2, 4, 2, 1, 0, 1, 1, 1, 1, 0, 0, 1, 4, 1, 1, 1, 1, 0, 0, 1, 0, 1,\n",
       "       1, 1, 0, 4, 1, 1, 2, 1, 1, 1, 1, 1, 2, 1, 0, 1, 1, 1, 1, 0, 2, 1,\n",
       "       0, 1, 1, 1, 0, 1, 1, 1, 0, 4, 0, 1, 1, 1, 1, 1, 1, 4, 1, 2, 2, 4,\n",
       "       2, 4, 0, 0, 0, 1, 3, 0, 2, 2, 2, 1, 2, 1, 3, 4, 0, 1, 4, 1, 1, 4,\n",
       "       1, 4, 3, 1, 1, 1, 1, 0, 2, 0, 1, 0, 1, 0, 4, 1, 1, 1, 1, 0, 0, 2,\n",
       "       1, 1, 4, 1, 0, 4, 1, 2, 0, 1, 2, 0, 4, 3, 1, 0, 2, 1, 0, 2, 2, 2,\n",
       "       1, 1, 1, 1, 0, 4, 4, 1, 2, 1, 1, 2, 1, 0, 0, 1, 1, 0, 2, 2, 4, 2,\n",
       "       0, 0, 4, 1, 1, 4, 0, 0, 2, 0, 1, 3, 1, 0, 2, 3, 1, 1, 0, 1])"
      ]
     },
     "execution_count": 22,
     "metadata": {},
     "output_type": "execute_result"
    }
   ],
   "source": [
    "normalized_kmeans.labels_"
   ]
  },
  {
   "cell_type": "code",
   "execution_count": 23,
   "id": "1ef18e82",
   "metadata": {
    "scrolled": true
   },
   "outputs": [
    {
     "data": {
      "text/plain": [
       "0.5669525736269593"
      ]
     },
     "execution_count": 23,
     "metadata": {},
     "output_type": "execute_result"
    }
   ],
   "source": [
    "metrics.silhouette_score(normalized_data, normalized_kmeans.labels_)"
   ]
  },
  {
   "cell_type": "code",
   "execution_count": 24,
   "id": "547f3aa5",
   "metadata": {},
   "outputs": [
    {
     "data": {
      "text/plain": [
       "KMeans(n_clusters=4)"
      ]
     },
     "execution_count": 24,
     "metadata": {},
     "output_type": "execute_result"
    }
   ],
   "source": [
    "dummy_kmeans = KMeans(n_clusters=4)\n",
    "dummy_kmeans.fit(dummy_data)"
   ]
  },
  {
   "cell_type": "code",
   "execution_count": 25,
   "id": "50589691",
   "metadata": {},
   "outputs": [
    {
     "data": {
      "text/plain": [
       "array([1, 1, 1, 3, 0, 1, 3, 1, 2, 1, 1, 1, 1, 2, 0, 1, 0, 1, 3, 3, 0, 1,\n",
       "       1, 1, 3, 3, 1, 3, 3, 1, 1, 0, 1, 1, 1, 0, 1, 1, 1, 0, 3, 1, 1, 0,\n",
       "       1, 1, 1, 1, 1, 1, 3, 1, 1, 0, 0, 1, 0, 3, 1, 3, 1, 1, 1, 3, 1, 1,\n",
       "       1, 1, 1, 3, 3, 3, 1, 0, 1, 1, 1, 1, 1, 1, 1, 1, 3, 1, 1, 3, 1, 3,\n",
       "       3, 1, 1, 0, 1, 1, 3, 0, 1, 3, 3, 0, 1, 1, 1, 1, 1, 3, 1, 3, 1, 1,\n",
       "       3, 2, 1, 1, 0, 1, 1, 1, 1, 1, 3, 1, 3, 1, 1, 3, 3, 3, 3, 1, 0, 1,\n",
       "       0, 1, 1, 3, 1, 3, 1, 0, 1, 1, 3, 1, 0, 1, 1, 3, 1, 1, 0, 1, 3, 2,\n",
       "       1, 1, 3, 3, 1, 3, 1, 3, 0, 1, 1, 3, 1, 1, 1, 3, 1, 3, 1, 1, 3, 3,\n",
       "       1, 3, 1, 1, 1, 3, 1, 1, 1, 1, 2, 3, 3, 3, 1, 3, 1, 1, 1, 0, 1, 1,\n",
       "       3, 0, 1, 1, 1, 1, 0, 1, 0, 1, 3, 1, 1, 1, 1, 3, 0, 0, 3, 3, 1, 1,\n",
       "       2, 1, 1, 0, 3, 1, 1, 1, 2, 3, 1, 2, 1, 1, 1, 1, 0, 1, 1, 1, 1, 3,\n",
       "       1, 0, 0, 1, 1, 2, 2, 1, 1, 1, 3, 1, 0, 1, 1, 1, 2, 3, 3, 1, 1, 1,\n",
       "       1, 3, 1, 1, 1, 1, 1, 3, 1, 1, 1, 3, 1, 3, 1, 0, 1, 3, 3, 1, 1, 3,\n",
       "       2, 0, 1, 3, 1, 3, 0, 0, 1, 3, 0, 0, 0, 1, 1, 3, 1, 1, 1, 3, 3, 3,\n",
       "       0, 0, 1, 3, 3, 3, 1, 3, 3, 1, 3, 1, 0, 1, 1, 1, 1, 0, 3, 1, 3, 3,\n",
       "       1, 1, 1, 1, 3, 0, 1, 1, 0, 1, 3, 3, 1, 1, 1, 3, 3, 1, 3, 1, 1, 1,\n",
       "       1, 1, 1, 1, 0, 1, 3, 0, 0, 1, 1, 1, 0, 3, 1, 1, 3, 3, 2, 3, 3, 3,\n",
       "       3, 0, 3, 3, 1, 3, 3, 1, 0, 3, 3, 1, 1, 1, 0, 3, 0, 1, 2, 3, 1, 0,\n",
       "       3, 1, 1, 1, 1, 1, 3, 1, 1, 3, 1, 1, 1, 2, 1, 0, 0, 3, 0, 2, 1, 1,\n",
       "       1, 3, 0, 3, 3, 1, 0, 0, 1, 0, 3, 0, 1, 3, 3, 1, 1, 1, 1, 1, 1, 1,\n",
       "       1, 1, 3, 1, 1, 1, 3, 3, 3, 3, 3, 1, 0, 1, 3, 1, 1, 3, 0, 3, 3, 1,\n",
       "       1, 1, 1, 3, 1, 3, 1, 3, 1, 1, 1, 1, 1, 1, 0, 3, 3, 1, 0, 1, 1, 3,\n",
       "       1, 0, 2, 0, 1, 1, 3, 1, 1, 3, 1, 1, 1, 3, 3, 0, 3, 1, 1, 3, 1, 1,\n",
       "       3, 0, 3, 1, 1, 0, 1, 1, 3, 3, 0, 1, 1, 0, 3, 3, 1, 1, 1, 1, 3, 3,\n",
       "       0, 1, 3, 1, 3, 1, 3, 1, 1, 1, 0, 3, 0, 0, 1, 3, 3, 0, 0, 0, 3, 1,\n",
       "       1, 3, 1, 1, 3, 0, 1, 1, 1, 1, 1, 0, 3, 1, 1, 3, 1, 3, 3, 3, 1, 1,\n",
       "       1, 3, 0, 3, 3, 1, 1, 1, 1, 1, 1, 1, 2, 1, 1, 1, 0, 1, 1, 3, 1, 3,\n",
       "       0, 0, 1, 1, 1, 3, 1, 1, 1, 3, 1, 1, 0, 1, 0, 0, 3, 0, 0, 1, 3, 1,\n",
       "       1, 1, 1, 1, 3, 1, 1, 3, 1, 3, 1, 1, 1, 1, 1, 3, 1, 0, 1, 1, 1, 3,\n",
       "       3, 1, 3, 1, 1, 1, 3, 2, 3, 0, 3, 1, 3, 3, 3, 1, 3, 2, 3, 0, 1, 3,\n",
       "       1, 1, 0, 3, 1, 3, 1, 1, 0, 3, 0, 1, 1, 0, 1, 1, 1, 1, 1, 0, 1, 1,\n",
       "       3, 1, 1, 0, 1, 1, 0, 0, 1, 1, 3, 3, 1, 2, 3, 1, 3, 1, 0, 1, 1, 1,\n",
       "       3, 1, 1, 0, 1, 3, 2, 1, 1, 0, 1, 2, 0, 1, 0, 1, 1, 0, 3, 3, 1, 1,\n",
       "       0, 1, 1, 1, 3, 1, 3, 3, 1, 1, 3, 1, 3, 1, 3, 3, 3, 1, 3, 3, 1, 3,\n",
       "       0, 1, 1, 3, 1, 2, 1, 3, 1, 1, 1, 1, 1, 1, 1, 0, 1, 3, 1, 1])"
      ]
     },
     "execution_count": 25,
     "metadata": {},
     "output_type": "execute_result"
    }
   ],
   "source": [
    "dummy_kmeans.labels_"
   ]
  },
  {
   "cell_type": "code",
   "execution_count": 26,
   "id": "5663b17b",
   "metadata": {},
   "outputs": [
    {
     "data": {
      "text/plain": [
       "0.4424586538306248"
      ]
     },
     "execution_count": 26,
     "metadata": {},
     "output_type": "execute_result"
    }
   ],
   "source": [
    "metrics.silhouette_score(dummy_data, dummy_kmeans.labels_)"
   ]
  },
  {
   "cell_type": "markdown",
   "id": "bbc8c53c",
   "metadata": {},
   "source": [
    "### Exercise 6"
   ]
  },
  {
   "cell_type": "code",
   "execution_count": 27,
   "id": "c9cbd161",
   "metadata": {},
   "outputs": [],
   "source": [
    "normalized_data[\"cluster\"] = normalized_kmeans.labels_"
   ]
  },
  {
   "cell_type": "code",
   "execution_count": 28,
   "id": "c7948fbc",
   "metadata": {},
   "outputs": [
    {
     "data": {
      "text/html": [
       "<div>\n",
       "<style scoped>\n",
       "    .dataframe tbody tr th:only-of-type {\n",
       "        vertical-align: middle;\n",
       "    }\n",
       "\n",
       "    .dataframe tbody tr th {\n",
       "        vertical-align: top;\n",
       "    }\n",
       "\n",
       "    .dataframe thead tr th {\n",
       "        text-align: left;\n",
       "    }\n",
       "\n",
       "    .dataframe thead tr:last-of-type th {\n",
       "        text-align: right;\n",
       "    }\n",
       "</style>\n",
       "<table border=\"1\" class=\"dataframe\">\n",
       "  <thead>\n",
       "    <tr>\n",
       "      <th></th>\n",
       "      <th colspan=\"8\" halign=\"left\">Pregnancies</th>\n",
       "      <th colspan=\"2\" halign=\"left\">Glucose</th>\n",
       "      <th>...</th>\n",
       "      <th colspan=\"2\" halign=\"left\">AgeCategory_Mature</th>\n",
       "      <th colspan=\"8\" halign=\"left\">AgeCategory_Young</th>\n",
       "    </tr>\n",
       "    <tr>\n",
       "      <th></th>\n",
       "      <th>count</th>\n",
       "      <th>mean</th>\n",
       "      <th>std</th>\n",
       "      <th>min</th>\n",
       "      <th>25%</th>\n",
       "      <th>50%</th>\n",
       "      <th>75%</th>\n",
       "      <th>max</th>\n",
       "      <th>count</th>\n",
       "      <th>mean</th>\n",
       "      <th>...</th>\n",
       "      <th>75%</th>\n",
       "      <th>max</th>\n",
       "      <th>count</th>\n",
       "      <th>mean</th>\n",
       "      <th>std</th>\n",
       "      <th>min</th>\n",
       "      <th>25%</th>\n",
       "      <th>50%</th>\n",
       "      <th>75%</th>\n",
       "      <th>max</th>\n",
       "    </tr>\n",
       "    <tr>\n",
       "      <th>cluster</th>\n",
       "      <th></th>\n",
       "      <th></th>\n",
       "      <th></th>\n",
       "      <th></th>\n",
       "      <th></th>\n",
       "      <th></th>\n",
       "      <th></th>\n",
       "      <th></th>\n",
       "      <th></th>\n",
       "      <th></th>\n",
       "      <th></th>\n",
       "      <th></th>\n",
       "      <th></th>\n",
       "      <th></th>\n",
       "      <th></th>\n",
       "      <th></th>\n",
       "      <th></th>\n",
       "      <th></th>\n",
       "      <th></th>\n",
       "      <th></th>\n",
       "      <th></th>\n",
       "    </tr>\n",
       "  </thead>\n",
       "  <tbody>\n",
       "    <tr>\n",
       "      <th>0</th>\n",
       "      <td>148.0</td>\n",
       "      <td>0.383943</td>\n",
       "      <td>0.217672</td>\n",
       "      <td>0.0</td>\n",
       "      <td>0.235294</td>\n",
       "      <td>0.411765</td>\n",
       "      <td>0.529412</td>\n",
       "      <td>1.000000</td>\n",
       "      <td>148.0</td>\n",
       "      <td>0.705555</td>\n",
       "      <td>...</td>\n",
       "      <td>0.0</td>\n",
       "      <td>0.0</td>\n",
       "      <td>148.0</td>\n",
       "      <td>0.0</td>\n",
       "      <td>0.0</td>\n",
       "      <td>0.0</td>\n",
       "      <td>0.0</td>\n",
       "      <td>0.0</td>\n",
       "      <td>0.0</td>\n",
       "      <td>0.0</td>\n",
       "    </tr>\n",
       "    <tr>\n",
       "      <th>1</th>\n",
       "      <td>338.0</td>\n",
       "      <td>0.118343</td>\n",
       "      <td>0.104027</td>\n",
       "      <td>0.0</td>\n",
       "      <td>0.058824</td>\n",
       "      <td>0.117647</td>\n",
       "      <td>0.176471</td>\n",
       "      <td>0.588235</td>\n",
       "      <td>338.0</td>\n",
       "      <td>0.538536</td>\n",
       "      <td>...</td>\n",
       "      <td>0.0</td>\n",
       "      <td>0.0</td>\n",
       "      <td>338.0</td>\n",
       "      <td>1.0</td>\n",
       "      <td>0.0</td>\n",
       "      <td>1.0</td>\n",
       "      <td>1.0</td>\n",
       "      <td>1.0</td>\n",
       "      <td>1.0</td>\n",
       "      <td>1.0</td>\n",
       "    </tr>\n",
       "    <tr>\n",
       "      <th>2</th>\n",
       "      <td>129.0</td>\n",
       "      <td>0.351573</td>\n",
       "      <td>0.193211</td>\n",
       "      <td>0.0</td>\n",
       "      <td>0.235294</td>\n",
       "      <td>0.352941</td>\n",
       "      <td>0.470588</td>\n",
       "      <td>0.764706</td>\n",
       "      <td>129.0</td>\n",
       "      <td>0.566203</td>\n",
       "      <td>...</td>\n",
       "      <td>0.0</td>\n",
       "      <td>0.0</td>\n",
       "      <td>129.0</td>\n",
       "      <td>0.0</td>\n",
       "      <td>0.0</td>\n",
       "      <td>0.0</td>\n",
       "      <td>0.0</td>\n",
       "      <td>0.0</td>\n",
       "      <td>0.0</td>\n",
       "      <td>0.0</td>\n",
       "    </tr>\n",
       "    <tr>\n",
       "      <th>3</th>\n",
       "      <td>50.0</td>\n",
       "      <td>0.336471</td>\n",
       "      <td>0.198163</td>\n",
       "      <td>0.0</td>\n",
       "      <td>0.235294</td>\n",
       "      <td>0.323529</td>\n",
       "      <td>0.470588</td>\n",
       "      <td>0.764706</td>\n",
       "      <td>50.0</td>\n",
       "      <td>0.690854</td>\n",
       "      <td>...</td>\n",
       "      <td>1.0</td>\n",
       "      <td>1.0</td>\n",
       "      <td>50.0</td>\n",
       "      <td>0.0</td>\n",
       "      <td>0.0</td>\n",
       "      <td>0.0</td>\n",
       "      <td>0.0</td>\n",
       "      <td>0.0</td>\n",
       "      <td>0.0</td>\n",
       "      <td>0.0</td>\n",
       "    </tr>\n",
       "    <tr>\n",
       "      <th>4</th>\n",
       "      <td>103.0</td>\n",
       "      <td>0.142776</td>\n",
       "      <td>0.134744</td>\n",
       "      <td>0.0</td>\n",
       "      <td>0.000000</td>\n",
       "      <td>0.117647</td>\n",
       "      <td>0.235294</td>\n",
       "      <td>0.588235</td>\n",
       "      <td>103.0</td>\n",
       "      <td>0.704249</td>\n",
       "      <td>...</td>\n",
       "      <td>0.0</td>\n",
       "      <td>0.0</td>\n",
       "      <td>103.0</td>\n",
       "      <td>1.0</td>\n",
       "      <td>0.0</td>\n",
       "      <td>1.0</td>\n",
       "      <td>1.0</td>\n",
       "      <td>1.0</td>\n",
       "      <td>1.0</td>\n",
       "      <td>1.0</td>\n",
       "    </tr>\n",
       "  </tbody>\n",
       "</table>\n",
       "<p>5 rows × 88 columns</p>\n",
       "</div>"
      ],
      "text/plain": [
       "        Pregnancies                                                         \\\n",
       "              count      mean       std  min       25%       50%       75%   \n",
       "cluster                                                                      \n",
       "0             148.0  0.383943  0.217672  0.0  0.235294  0.411765  0.529412   \n",
       "1             338.0  0.118343  0.104027  0.0  0.058824  0.117647  0.176471   \n",
       "2             129.0  0.351573  0.193211  0.0  0.235294  0.352941  0.470588   \n",
       "3              50.0  0.336471  0.198163  0.0  0.235294  0.323529  0.470588   \n",
       "4             103.0  0.142776  0.134744  0.0  0.000000  0.117647  0.235294   \n",
       "\n",
       "                  Glucose            ... AgeCategory_Mature       \\\n",
       "              max   count      mean  ...                75%  max   \n",
       "cluster                              ...                           \n",
       "0        1.000000   148.0  0.705555  ...                0.0  0.0   \n",
       "1        0.588235   338.0  0.538536  ...                0.0  0.0   \n",
       "2        0.764706   129.0  0.566203  ...                0.0  0.0   \n",
       "3        0.764706    50.0  0.690854  ...                1.0  1.0   \n",
       "4        0.588235   103.0  0.704249  ...                0.0  0.0   \n",
       "\n",
       "        AgeCategory_Young                                     \n",
       "                    count mean  std  min  25%  50%  75%  max  \n",
       "cluster                                                       \n",
       "0                   148.0  0.0  0.0  0.0  0.0  0.0  0.0  0.0  \n",
       "1                   338.0  1.0  0.0  1.0  1.0  1.0  1.0  1.0  \n",
       "2                   129.0  0.0  0.0  0.0  0.0  0.0  0.0  0.0  \n",
       "3                    50.0  0.0  0.0  0.0  0.0  0.0  0.0  0.0  \n",
       "4                   103.0  1.0  0.0  1.0  1.0  1.0  1.0  1.0  \n",
       "\n",
       "[5 rows x 88 columns]"
      ]
     },
     "execution_count": 28,
     "metadata": {},
     "output_type": "execute_result"
    }
   ],
   "source": [
    "normalized_data.groupby(\"cluster\").describe()"
   ]
  },
  {
   "cell_type": "markdown",
   "id": "180615f4",
   "metadata": {},
   "source": [
    "# Part C"
   ]
  },
  {
   "cell_type": "markdown",
   "id": "dcf879e7",
   "metadata": {},
   "source": [
    "### Exercise 1"
   ]
  },
  {
   "cell_type": "code",
   "execution_count": 29,
   "id": "0b71b729",
   "metadata": {
    "scrolled": true
   },
   "outputs": [
    {
     "data": {
      "image/png": "[encoded data removed]",
      "text/plain": [
       "<Figure size 360x360 with 1 Axes>"
      ]
     },
     "metadata": {},
     "output_type": "display_data"
    }
   ],
   "source": [
    "values = dummy_data[\"Outcome\"].value_counts().values\n",
    "l = (\"Healthy\",\"Diabetes mellitus\")\n",
    "plt.figure(figsize=(5,5))\n",
    "plt.pie(values,labels=l,autopct=\"%1.2f%%\",startangle=60)\n",
    "plt.title(\"Number of diabetics in relation to the general population\")\n",
    "plt.show()"
   ]
  },
  {
   "cell_type": "markdown",
   "id": "1b8139a7",
   "metadata": {},
   "source": [
    "### Exercise 2"
   ]
  },
  {
   "cell_type": "code",
   "execution_count": 30,
   "id": "b84c1b75",
   "metadata": {},
   "outputs": [],
   "source": [
    "def split_train_test(x,y,num):\n",
    "    if num < 0 or num > 1 :\n",
    "        return \"Error\"\n",
    "    else:\n",
    "        return train_test_split(x,y,test_size=num)"
   ]
  },
  {
   "cell_type": "markdown",
   "id": "3ede8a77",
   "metadata": {},
   "source": [
    "### Exercise 3"
   ]
  },
  {
   "cell_type": "code",
   "execution_count": 31,
   "id": "0a334822",
   "metadata": {},
   "outputs": [],
   "source": [
    "x = dummy_data.drop(columns=[\"Outcome\"])\n",
    "y = dummy_data[\"Outcome\"]\n",
    "x_train,x_test,y_train,y_test = split_train_test( x , y , 0.25)"
   ]
  },
  {
   "cell_type": "markdown",
   "id": "e906c26f",
   "metadata": {},
   "source": [
    "### Exercise 4"
   ]
  },
  {
   "cell_type": "code",
   "execution_count": 32,
   "id": "570124cb",
   "metadata": {},
   "outputs": [],
   "source": [
    "tree = DecisionTreeClassifier()\n",
    "tree.fit(x_train,y_train)\n",
    "y_pred = tree.predict(x_test)"
   ]
  },
  {
   "cell_type": "markdown",
   "id": "78ef764f",
   "metadata": {},
   "source": [
    "### Exercise 5"
   ]
  },
  {
   "cell_type": "code",
   "execution_count": 33,
   "id": "838c76ee",
   "metadata": {},
   "outputs": [
    {
     "data": {
      "text/plain": [
       "array([[101,  19],\n",
       "       [ 27,  45]], dtype=int64)"
      ]
     },
     "execution_count": 33,
     "metadata": {},
     "output_type": "execute_result"
    }
   ],
   "source": [
    "metrics.confusion_matrix(y_test,y_pred)"
   ]
  },
  {
   "cell_type": "code",
   "execution_count": 34,
   "id": "618863bf",
   "metadata": {},
   "outputs": [
    {
     "data": {
      "text/plain": [
       "0.7604166666666666"
      ]
     },
     "execution_count": 34,
     "metadata": {},
     "output_type": "execute_result"
    }
   ],
   "source": [
    "metrics.accuracy_score(y_test,y_pred)"
   ]
  },
  {
   "cell_type": "markdown",
   "id": "ca9a78d5",
   "metadata": {},
   "source": [
    "ממטריצת הבלבול ניתן ללמוד שבצידה השמאלי העליון רואים את הכמות שנובאה כאנשים בריאים, ומצידה הימני העליון את סך כמות הטעויות כלומר הכמות שנובאה לא נכון\n",
    "מצד ימין למטה רואים את כמות האנשים שנובא שחולי סכרת, ובצד שמאל למטה את כמות הטעויות כלומר הכמות שנובאה לא נכון\n",
    "ובסופו של דבר מדד האקיורסי מראה את רמת הדיוק של האלגוריתם"
   ]
  },
  {
   "cell_type": "markdown",
   "id": "cc23256a",
   "metadata": {},
   "source": [
    "### Exercise 6"
   ]
  },
  {
   "cell_type": "code",
   "execution_count": 35,
   "id": "fe75d8ce",
   "metadata": {},
   "outputs": [],
   "source": [
    "Rf = RandomForestClassifier(n_estimators = 50)\n",
    "Rf.fit(x_train,y_train)\n",
    "Rf_pred = Rf.predict(x_test)"
   ]
  },
  {
   "cell_type": "markdown",
   "id": "9e5a0aa0",
   "metadata": {},
   "source": [
    "### Exercise 7"
   ]
  },
  {
   "cell_type": "code",
   "execution_count": 36,
   "id": "e8114614",
   "metadata": {},
   "outputs": [
    {
     "data": {
      "text/plain": [
       "array([[104,  16],\n",
       "       [ 32,  40]], dtype=int64)"
      ]
     },
     "execution_count": 36,
     "metadata": {},
     "output_type": "execute_result"
    }
   ],
   "source": [
    "metrics.confusion_matrix(y_test,Rf_pred)"
   ]
  },
  {
   "cell_type": "code",
   "execution_count": 37,
   "id": "58b61bb0",
   "metadata": {},
   "outputs": [
    {
     "data": {
      "text/plain": [
       "0.75"
      ]
     },
     "execution_count": 37,
     "metadata": {},
     "output_type": "execute_result"
    }
   ],
   "source": [
    "metrics.accuracy_score(y_test,Rf_pred)"
   ]
  },
  {
   "cell_type": "markdown",
   "id": "f6bea259",
   "metadata": {},
   "source": [
    "מה שהוסבר בסעיף 5 זהה גם לכאן, רק שבשימוש ברנדום פורסט הרמת דיוק עולה ביחס לדסיז'ן טרי בגלל שברנדום פורסט הרוב קובע ומספר עצי ההחלטה גבוה משמעותית  "
   ]
  },
  {
   "cell_type": "markdown",
   "id": "a92f9bf2",
   "metadata": {},
   "source": [
    "### Exercise 8"
   ]
  },
  {
   "cell_type": "code",
   "execution_count": 44,
   "id": "24ac769a",
   "metadata": {
    "scrolled": false
   },
   "outputs": [
    {
     "data": {
      "text/html": [
       "<div>\n",
       "<style scoped>\n",
       "    .dataframe tbody tr th:only-of-type {\n",
       "        vertical-align: middle;\n",
       "    }\n",
       "\n",
       "    .dataframe tbody tr th {\n",
       "        vertical-align: top;\n",
       "    }\n",
       "\n",
       "    .dataframe thead th {\n",
       "        text-align: right;\n",
       "    }\n",
       "</style>\n",
       "<table border=\"1\" class=\"dataframe\">\n",
       "  <thead>\n",
       "    <tr style=\"text-align: right;\">\n",
       "      <th></th>\n",
       "      <th>columns</th>\n",
       "      <th>percentage</th>\n",
       "    </tr>\n",
       "  </thead>\n",
       "  <tbody>\n",
       "    <tr>\n",
       "      <th>0</th>\n",
       "      <td>Pregnancies</td>\n",
       "      <td>8.573771</td>\n",
       "    </tr>\n",
       "    <tr>\n",
       "      <th>1</th>\n",
       "      <td>Glucose</td>\n",
       "      <td>32.307214</td>\n",
       "    </tr>\n",
       "    <tr>\n",
       "      <th>2</th>\n",
       "      <td>BloodPressure</td>\n",
       "      <td>8.506102</td>\n",
       "    </tr>\n",
       "    <tr>\n",
       "      <th>3</th>\n",
       "      <td>SkinThickness</td>\n",
       "      <td>4.365538</td>\n",
       "    </tr>\n",
       "    <tr>\n",
       "      <th>4</th>\n",
       "      <td>Insulin</td>\n",
       "      <td>6.687064</td>\n",
       "    </tr>\n",
       "    <tr>\n",
       "      <th>5</th>\n",
       "      <td>BMI</td>\n",
       "      <td>19.819743</td>\n",
       "    </tr>\n",
       "    <tr>\n",
       "      <th>6</th>\n",
       "      <td>DiabetesLevel</td>\n",
       "      <td>12.322989</td>\n",
       "    </tr>\n",
       "    <tr>\n",
       "      <th>7</th>\n",
       "      <td>AgeCategory_Adult</td>\n",
       "      <td>1.280917</td>\n",
       "    </tr>\n",
       "    <tr>\n",
       "      <th>8</th>\n",
       "      <td>AgeCategory_Mature</td>\n",
       "      <td>0.386681</td>\n",
       "    </tr>\n",
       "    <tr>\n",
       "      <th>9</th>\n",
       "      <td>AgeCategory_Young</td>\n",
       "      <td>5.749982</td>\n",
       "    </tr>\n",
       "  </tbody>\n",
       "</table>\n",
       "</div>"
      ],
      "text/plain": [
       "              columns  percentage\n",
       "0         Pregnancies    8.573771\n",
       "1             Glucose   32.307214\n",
       "2       BloodPressure    8.506102\n",
       "3       SkinThickness    4.365538\n",
       "4             Insulin    6.687064\n",
       "5                 BMI   19.819743\n",
       "6       DiabetesLevel   12.322989\n",
       "7   AgeCategory_Adult    1.280917\n",
       "8  AgeCategory_Mature    0.386681\n",
       "9   AgeCategory_Young    5.749982"
      ]
     },
     "execution_count": 44,
     "metadata": {},
     "output_type": "execute_result"
    }
   ],
   "source": [
    "data_test={'columns' : x_train.columns , 'percentage' : tree.feature_importances_ *100}\n",
    "df = pd.DataFrame(data_test)\n",
    "df"
   ]
  },
  {
   "cell_type": "code",
   "execution_count": 45,
   "id": "a19bbf2b",
   "metadata": {},
   "outputs": [
    {
     "data": {
      "text/html": [
       "<div>\n",
       "<style scoped>\n",
       "    .dataframe tbody tr th:only-of-type {\n",
       "        vertical-align: middle;\n",
       "    }\n",
       "\n",
       "    .dataframe tbody tr th {\n",
       "        vertical-align: top;\n",
       "    }\n",
       "\n",
       "    .dataframe thead th {\n",
       "        text-align: right;\n",
       "    }\n",
       "</style>\n",
       "<table border=\"1\" class=\"dataframe\">\n",
       "  <thead>\n",
       "    <tr style=\"text-align: right;\">\n",
       "      <th></th>\n",
       "      <th>columns</th>\n",
       "      <th>percentage</th>\n",
       "    </tr>\n",
       "  </thead>\n",
       "  <tbody>\n",
       "    <tr>\n",
       "      <th>1</th>\n",
       "      <td>Glucose</td>\n",
       "      <td>32.307214</td>\n",
       "    </tr>\n",
       "  </tbody>\n",
       "</table>\n",
       "</div>"
      ],
      "text/plain": [
       "   columns  percentage\n",
       "1  Glucose   32.307214"
      ]
     },
     "execution_count": 45,
     "metadata": {},
     "output_type": "execute_result"
    }
   ],
   "source": [
    "df.sort_values(\"percentage\").tail(1)"
   ]
  },
  {
   "cell_type": "code",
   "execution_count": 46,
   "id": "3db9eb3f",
   "metadata": {},
   "outputs": [
    {
     "data": {
      "text/html": [
       "<div>\n",
       "<style scoped>\n",
       "    .dataframe tbody tr th:only-of-type {\n",
       "        vertical-align: middle;\n",
       "    }\n",
       "\n",
       "    .dataframe tbody tr th {\n",
       "        vertical-align: top;\n",
       "    }\n",
       "\n",
       "    .dataframe thead th {\n",
       "        text-align: right;\n",
       "    }\n",
       "</style>\n",
       "<table border=\"1\" class=\"dataframe\">\n",
       "  <thead>\n",
       "    <tr style=\"text-align: right;\">\n",
       "      <th></th>\n",
       "      <th>columns</th>\n",
       "      <th>percentage</th>\n",
       "    </tr>\n",
       "  </thead>\n",
       "  <tbody>\n",
       "    <tr>\n",
       "      <th>8</th>\n",
       "      <td>AgeCategory_Mature</td>\n",
       "      <td>0.386681</td>\n",
       "    </tr>\n",
       "  </tbody>\n",
       "</table>\n",
       "</div>"
      ],
      "text/plain": [
       "              columns  percentage\n",
       "8  AgeCategory_Mature    0.386681"
      ]
     },
     "execution_count": 46,
     "metadata": {},
     "output_type": "execute_result"
    }
   ],
   "source": [
    "df.sort_values(\"percentage\").head(1)"
   ]
  },
  {
   "cell_type": "code",
   "execution_count": null,
   "id": "1677f8ad",
   "metadata": {},
   "outputs": [],
   "source": []
  }
 ],
 "metadata": {
  "kernelspec": {
   "display_name": "Python 3 (ipykernel)",
   "language": "python",
   "name": "python3"
  },
  "language_info": {
   "codemirror_mode": {
    "name": "ipython",
    "version": 3
   },
   "file_extension": ".py",
   "mimetype": "text/x-python",
   "name": "python",
   "nbconvert_exporter": "python",
   "pygments_lexer": "ipython3",
   "version": "3.9.12"
  }
 },
 "nbformat": 4,
 "nbformat_minor": 5
}
